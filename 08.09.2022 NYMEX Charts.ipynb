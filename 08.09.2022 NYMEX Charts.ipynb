{
 "cells": [
  {
   "cell_type": "code",
   "execution_count": null,
   "metadata": {},
   "outputs": [],
   "source": [
    "import re\n",
    "import urllib.request\n",
    "import pandas as pd\n",
    "import copy\n",
    "from datetime import datetime\n",
    "import numpy as np\n",
    "\n",
    "#pull the html/xml data from site into a giant string\n",
    "url=('https://www.teletrader.com/quickbar/Henry_Hub_Natural_Gas_Futures_ETH_Energy_NYMEX_Futures')\n",
    "\n",
    "items=re.compile(r\"<tr class.*?</tr>\")\n",
    "answeritems=[]\n",
    "allcontracts=[]\n",
    "today=datetime.today()\n",
    "today = today.strftime(\"%Y-%m-%d %H:%M\")\n",
    "\n",
    "f = urllib.request.urlopen(url)\n",
    "\n",
    "contents = str(f.readlines())\n",
    "\n",
    "f.close()"
   ]
  },
  {
   "cell_type": "code",
   "execution_count": null,
   "metadata": {},
   "outputs": [],
   "source": [
    "#parse the giant string of site data with regular expressions to pull out the pricing data\n",
    "#the product of thiese lines is a list of lists \n",
    "answeritems=items.findall(contents)[8:]\n",
    "\n",
    "for i in answeritems:\n",
    "    tts=re.compile(r'-\\d\\d\\d\\d\\d\\d\\d\\d')\n",
    "    monthyear=re.compile(r'-\\d-\\d\\d')\n",
    "    twomonthyear=re.compile(r'-\\d\\d-\\d\\d')\n",
    "    price=re.compile(r'delayed\">.*?<')\n",
    "\n",
    "    ttsnumber=str(set(tts.findall(i)))[3:11]\n",
    "    monthy=(str(set(monthyear.findall(i)))[3:7]+str(set(twomonthyear.findall(i)))[3:8]).replace(\"()\",\"\").replace(\"-\",\"-01-\")\n",
    "    contractprice=float(str(set(price.findall(i)))[11:].replace(\"<'}\",\"\"))\n",
    "    strip=int(monthy[:2].replace(\"-\",\"\"))\n",
    "    stripm=int(monthy[:2].replace(\"-\",\"\"))\n",
    "\n",
    "    if strip == 11 or strip==12:\n",
    "        strip=\"Nov\"+str(monthy[-2:])+\"-Mar\"+str(int(monthy[-2:])+1)\n",
    "    elif strip == 1 or strip==2 or strip==3:\n",
    "        strip=\"Nov\"+str(int(monthy[-2:])-1)+\"-Mar\"+str(monthy[-2:])\n",
    "    else:\n",
    "        strip=\"Apr\"+str(monthy[-2:])+\"-Oct\"+str(monthy[-2:])\n",
    "   \n",
    "    allcontracts.append((ttsnumber,monthy,contractprice,strip))\n",
    "\n",
    "#print(allcontracts)\n",
    "\n",
    "#Convert the list into a Pandas dataframe\n",
    "#give the columns some names\n",
    "df=pd.DataFrame(allcontracts)\n",
    "df.columns=[\"TTS\",\"Contract Month\",\"Price\",\"Strip\"]\n",
    "\n",
    "#Create Average Strip Table\n",
    "dfstrips=copy.deepcopy(df)\n",
    "\n",
    "dfstrips.drop(\"TTS\",1, inplace=True)\n",
    "dfstrips.drop(\"Contract Month\",1,inplace=True)\n",
    "\n",
    "dfstrips=dfstrips.groupby(['Strip']).mean()\n",
    "\n",
    "TradeDate=[today]*len(dfstrips)\n",
    "TradeDatedf=[today]*(len(df))\n",
    "\n",
    "Index=np.linspace(0,len(dfstrips)-1,len(dfstrips))\n",
    "\n",
    "dfstrips['Trade Date']=TradeDate\n",
    "df['Trade Date']=TradeDatedf\n",
    "dfstrips=dfstrips.reset_index()"
   ]
  },
  {
   "cell_type": "code",
   "execution_count": null,
   "metadata": {},
   "outputs": [],
   "source": [
    "#find the first empty row in NYMEX_curves csv file\n",
    "\n",
    "wks = pd.read_csv('/root/NYMEX_Charts/08.09.2022_NYMEX_curves.csv')\n",
    "wks2 = pd.read_csv('/root/NYMEX_Charts/08.09.2022_NYMEX_strips.csv')\n",
    "\n",
    "wks = pd.concat([wks,df])\n",
    "wks2 = pd.concat([wks2,dfstrips])\n",
    "\n",
    "wks2"
   ]
  },
  {
   "cell_type": "code",
   "execution_count": null,
   "metadata": {},
   "outputs": [],
   "source": [
    "# wks.to_csv('08.09.2022_NYMEX_curves.csv', index=False)\n",
    "# wks2.to_csv('08.09.2022_NYMEX_strips.csv', index=False)\n",
    "\n",
    "wks.to_csv('/root/NYMEX_Charts/08.09.2022_NYMEX_curves.csv', index=False)\n",
    "wks2.to_csv(\"/root/NYMEX_Charts/08.09.2022_NYMEX_strips.csv\", index=False)"
   ]
  },
  {
   "cell_type": "code",
   "execution_count": null,
   "metadata": {},
   "outputs": [],
   "source": [
    "# wflows_log = pd.read_csv(\"wflows_log.csv\")\n",
    "wflows_log = pd.read_csv(\"/root/wflows_log.csv\")"
   ]
  },
  {
   "cell_type": "code",
   "execution_count": null,
   "metadata": {},
   "outputs": [],
   "source": [
    "update_item = {'Process': [\"NYMEX Charts\"],\n",
    "                'Time': [today],\n",
    "                'Note': ['Updated Curves and Strips']\n",
    "}\n",
    "update_item = pd.DataFrame(update_item)\n",
    "\n",
    "wflows_log = pd.concat([wflows_log,update_item])\n",
    "\n",
    "# wflows_log.to_csv('wflows_log.csv', index=False)\n",
    "\n",
    "wflows_log.to_csv(\"/root/wflows_log.csv\", index=False)"
   ]
  }
 ],
 "metadata": {
  "kernelspec": {
   "display_name": "Python 3 (ipykernel)",
   "language": "python",
   "name": "python3"
  },
  "language_info": {
   "codemirror_mode": {
    "name": "ipython",
    "version": 3
   },
   "file_extension": ".py",
   "mimetype": "text/x-python",
   "name": "python",
   "nbconvert_exporter": "python",
   "pygments_lexer": "ipython3",
   "version": "3.10.5"
  },
  "vscode": {
   "interpreter": {
    "hash": "8afc17b6bf09b5dcedf375ab839979310db8e0423fa981b4ca59190d26c73a8e"
   }
  }
 },
 "nbformat": 4,
 "nbformat_minor": 2
}
